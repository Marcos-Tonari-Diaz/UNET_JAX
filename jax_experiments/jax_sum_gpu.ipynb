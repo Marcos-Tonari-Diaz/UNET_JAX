{
  "cells": [
    {
      "cell_type": "code",
      "execution_count": 1,
      "metadata": {
        "id": "_yYC8FS1jZOs"
      },
      "outputs": [],
      "source": [
        "import time\n",
        "import numpy as np\n",
        "import jax\n",
        "from jax import random, pmap\n",
        "import jax.numpy as jnp\n",
        "from jax import jit"
      ]
    },
    {
      "cell_type": "code",
      "execution_count": 2,
      "metadata": {
        "colab": {
          "base_uri": "https://localhost:8080/"
        },
        "id": "NLu91_yZpqDG",
        "outputId": "4d8e070e-312c-4cee-adba-30259ce2e330"
      },
      "outputs": [
        {
          "name": "stdout",
          "output_type": "stream",
          "text": [
            "gpu\n",
            "gpu\n"
          ]
        }
      ],
      "source": [
        "from jax.lib import xla_bridge\n",
        "print(xla_bridge.get_backend().platform)\n",
        "print(jax.default_backend())"
      ]
    },
    {
      "cell_type": "code",
      "execution_count": 3,
      "metadata": {
        "colab": {
          "base_uri": "https://localhost:8080/"
        },
        "id": "OFNOwYCZmO1W",
        "outputId": "8b32a19b-7390-4774-b981-10607f2458f8"
      },
      "outputs": [
        {
          "name": "stdout",
          "output_type": "stream",
          "text": [
            "numpy 0.003044605255126953 seconds\n"
          ]
        }
      ],
      "source": [
        "# numpy summing \n",
        "rand_vec = np.random.normal(size = int(5e6))\n",
        "start_time = time.time()\n",
        "np.sum(rand_vec)\n",
        "print(\"numpy %s seconds\" % (time.time() - start_time))"
      ]
    },
    {
      "cell_type": "code",
      "execution_count": 4,
      "metadata": {
        "colab": {
          "base_uri": "https://localhost:8080/"
        },
        "id": "DMp0O0pAo17x",
        "outputId": "9747af95-c42d-45b7-cd7c-9eacb794db50"
      },
      "outputs": [
        {
          "name": "stdout",
          "output_type": "stream",
          "text": [
            "jax 0.19688200950622559 seconds\n"
          ]
        }
      ],
      "source": [
        "# jax summing\n",
        "key = random.PRNGKey(0)\n",
        "rand_vec_jax = random.normal(key, (1,int(5e6)))\n",
        "start_time = time.time()\n",
        "jnp.sum(rand_vec_jax)\n",
        "print(\"jax %s seconds\" % (time.time() - start_time))"
      ]
    },
    {
      "cell_type": "code",
      "execution_count": 12,
      "metadata": {
        "colab": {
          "base_uri": "https://localhost:8080/"
        },
        "id": "nX4MT4d9siU5",
        "outputId": "444478e8-d43d-4da8-c9c2-091046c3c43f"
      },
      "outputs": [
        {
          "name": "stdout",
          "output_type": "stream",
          "text": [
            "jax 0.00021505355834960938 seconds\n"
          ]
        }
      ],
      "source": [
        "# running jax again reduces the execution time\n",
        "key = random.PRNGKey(0)\n",
        "rand_vec_jax = random.normal(key, (1,int(5e6)))\n",
        "start_time = time.time()\n",
        "jnp.sum(rand_vec_jax)\n",
        "print(\"jax %s seconds\" % (time.time() - start_time))"
      ]
    },
    {
      "cell_type": "code",
      "execution_count": 5,
      "metadata": {
        "colab": {
          "base_uri": "https://localhost:8080/"
        },
        "id": "SBeXBgagoycy",
        "outputId": "c4bd5e65-0169-4587-bd2b-aa7bbaa9a74b"
      },
      "outputs": [
        {
          "name": "stdout",
          "output_type": "stream",
          "text": [
            "numpy 0.032800912857055664 seconds\n"
          ]
        }
      ],
      "source": [
        "# multiply array size by 10\n",
        "rand_vec = np.random.normal(size = int(5e7))\n",
        "start_time = time.time()\n",
        "np.sum(rand_vec)\n",
        "print(\"numpy %s seconds\" % (time.time() - start_time))"
      ]
    },
    {
      "cell_type": "code",
      "execution_count": 6,
      "metadata": {
        "colab": {
          "base_uri": "https://localhost:8080/"
        },
        "id": "6YtSH4Ruozqw",
        "outputId": "f8a003da-c2b9-45f5-ae9c-2afb5c6770f0"
      },
      "outputs": [
        {
          "name": "stdout",
          "output_type": "stream",
          "text": [
            "[[-0.3393011  -0.5583501  -1.677907   ...  0.0059462  -0.13327362\n",
            "   0.7063387 ]]\n",
            "3356.6104\n",
            "jax 0.1278674602508545 seconds\n"
          ]
        }
      ],
      "source": [
        "key = random.PRNGKey(1)\n",
        "rand_vec_jax = random.normal(key, (1,int(5e7)))\n",
        "print(rand_vec_jax[:10])\n",
        "start_time = time.time()\n",
        "rand_sum = jnp.sum(rand_vec_jax)\n",
        "print(rand_sum)\n",
        "print(\"jax %s seconds\" % (time.time() - start_time))"
      ]
    },
    {
      "cell_type": "code",
      "execution_count": 7,
      "metadata": {
        "colab": {
          "base_uri": "https://localhost:8080/"
        },
        "id": "mOGScSWiu7kj",
        "outputId": "1767bb54-7e73-4cf2-f6ad-ea0656d4d1f0"
      },
      "outputs": [
        {
          "name": "stdout",
          "output_type": "stream",
          "text": [
            "[[ 0.8741801   0.2930515   0.28383994 ...  1.0543811  -1.1015279\n",
            "   2.0108752 ]]\n",
            "-3500.2896\n",
            "jax 0.0010759830474853516 seconds\n"
          ]
        }
      ],
      "source": [
        "# running jax again\n",
        "key = random.PRNGKey(2)\n",
        "rand_vec_jax = random.normal(key, (1,int(5e7)))\n",
        "print(rand_vec_jax[:10])\n",
        "start_time = time.time()\n",
        "rand_sum = jnp.sum(rand_vec_jax)\n",
        "print(rand_sum)\n",
        "print(\"jax %s seconds\" % (time.time() - start_time))"
      ]
    },
    {
      "cell_type": "markdown",
      "metadata": {
        "id": "FYI5pGKHyQym"
      },
      "source": [
        "JIT"
      ]
    },
    {
      "cell_type": "code",
      "execution_count": 19,
      "metadata": {
        "id": "P_S6EZnVwkE0"
      },
      "outputs": [],
      "source": [
        "def jax_random_sum(random_seed):\n",
        "  key = random.PRNGKey(random_seed)\n",
        "  rand_vec_jax = random.normal(key, (1,int(5e7)))\n",
        "  start_time = time.time()\n",
        "  rand_sum = jnp.sum(rand_vec_jax)\n",
        "  return rand_sum"
      ]
    },
    {
      "cell_type": "code",
      "execution_count": 26,
      "metadata": {
        "colab": {
          "base_uri": "https://localhost:8080/"
        },
        "id": "T7qt4D2xw7_F",
        "outputId": "512dfc98-de34-4371-8790-497b84f86e37"
      },
      "outputs": [
        {
          "name": "stdout",
          "output_type": "stream",
          "text": [
            "CPU times: user 3.83 ms, sys: 953 µs, total: 4.79 ms\n",
            "Wall time: 3.56 ms\n"
          ]
        },
        {
          "data": {
            "text/plain": [
              "DeviceArray(2262.0051, dtype=float32)"
            ]
          },
          "execution_count": 26,
          "metadata": {},
          "output_type": "execute_result"
        }
      ],
      "source": [
        "%time jax_random_sum(3)"
      ]
    },
    {
      "cell_type": "code",
      "execution_count": 35,
      "metadata": {
        "colab": {
          "base_uri": "https://localhost:8080/"
        },
        "id": "MEFcGHhOyDnt",
        "outputId": "e1a5a5d9-4f3d-4b3f-dae2-f22529f2c751"
      },
      "outputs": [
        {
          "name": "stdout",
          "output_type": "stream",
          "text": [
            "CPU times: user 3.45 ms, sys: 771 µs, total: 4.22 ms\n",
            "Wall time: 3.62 ms\n"
          ]
        },
        {
          "data": {
            "text/plain": [
              "DeviceArray(2262.0051, dtype=float32)"
            ]
          },
          "execution_count": 35,
          "metadata": {},
          "output_type": "execute_result"
        }
      ],
      "source": [
        "%time jax_random_sum(3)"
      ]
    },
    {
      "cell_type": "code",
      "execution_count": 27,
      "metadata": {
        "id": "ivGVzRdEw_mx"
      },
      "outputs": [],
      "source": [
        "#using just in time compilation further reduces execution time\n",
        "compiled_jax_random_sum = jit(jax_random_sum)"
      ]
    },
    {
      "cell_type": "code",
      "execution_count": 38,
      "metadata": {
        "colab": {
          "base_uri": "https://localhost:8080/"
        },
        "id": "uhbBAfM0yAyC",
        "outputId": "7ab7bccc-b3dc-43b5-f6d1-d4b32e1a89e0"
      },
      "outputs": [
        {
          "name": "stdout",
          "output_type": "stream",
          "text": [
            "CPU times: user 1.26 ms, sys: 0 ns, total: 1.26 ms\n",
            "Wall time: 937 µs\n"
          ]
        },
        {
          "data": {
            "text/plain": [
              "DeviceArray(-9441.299, dtype=float32)"
            ]
          },
          "execution_count": 38,
          "metadata": {},
          "output_type": "execute_result"
        }
      ],
      "source": [
        "%time compiled_jax_random_sum(4)"
      ]
    },
    {
      "cell_type": "code",
      "execution_count": 39,
      "metadata": {
        "colab": {
          "base_uri": "https://localhost:8080/"
        },
        "id": "gcmkcuwZxXU9",
        "outputId": "48a5d322-322c-4953-9d50-a4a2a6ddd6be"
      },
      "outputs": [
        {
          "name": "stdout",
          "output_type": "stream",
          "text": [
            "CPU times: user 704 µs, sys: 125 µs, total: 829 µs\n",
            "Wall time: 576 µs\n"
          ]
        },
        {
          "data": {
            "text/plain": [
              "DeviceArray(-9441.299, dtype=float32)"
            ]
          },
          "execution_count": 39,
          "metadata": {},
          "output_type": "execute_result"
        }
      ],
      "source": [
        "%time compiled_jax_random_sum(4)"
      ]
    }
  ],
  "metadata": {
    "accelerator": "GPU",
    "colab": {
      "name": "jax_sum_gpu.ipynb",
      "provenance": []
    },
    "kernelspec": {
      "display_name": "Python 3",
      "name": "python3"
    },
    "language_info": {
      "name": "python",
      "version": "3.6.9"
    }
  },
  "nbformat": 4,
  "nbformat_minor": 0
}

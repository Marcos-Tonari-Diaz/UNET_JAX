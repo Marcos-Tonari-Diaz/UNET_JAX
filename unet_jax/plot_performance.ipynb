{
 "cells": [
  {
   "cell_type": "code",
   "execution_count": 2,
   "metadata": {},
   "outputs": [],
   "source": [
    "import pandas as pd\n",
    "from parse import parse"
   ]
  },
  {
   "cell_type": "code",
   "execution_count": 3,
   "metadata": {},
   "outputs": [],
   "source": [
    "def min_secs_to_fraction_minutes(time_string):\n",
    "    min_sec_result = parse(\"{}m{}s\", time_string)\n",
    "    min, sec = tuple([int(num) for num in min_sec_result.fixed])\n",
    "    return min+sec/60"
   ]
  },
  {
   "cell_type": "code",
   "execution_count": 4,
   "metadata": {},
   "outputs": [
    {
     "data": {
      "text/plain": [
       "60.5"
      ]
     },
     "execution_count": 4,
     "metadata": {},
     "output_type": "execute_result"
    }
   ],
   "source": [
    "min_secs_to_fraction_minutes(\"60m30s\")"
   ]
  },
  {
   "cell_type": "code",
   "execution_count": 18,
   "metadata": {},
   "outputs": [],
   "source": [
    "batchsize1_table = pd.DataFrame({\"Método\": [\"Keras\", \n",
    "                                            \"JAX\", \n",
    "                                            \"JAX JIT\"], \n",
    "                                 \"Tempo de Treinamento (min)\": [min_secs_to_fraction_minutes(\"10m11s\"), \n",
    "                                          min_secs_to_fraction_minutes(\"39m23s\"), \n",
    "                                          min_secs_to_fraction_minutes(\"8m10s\")]})"
   ]
  },
  {
   "cell_type": "code",
   "execution_count": 30,
   "metadata": {},
   "outputs": [
    {
     "data": {
      "text/plain": [
       "<AxesSubplot:xlabel='Método'>"
      ]
     },
     "execution_count": 30,
     "metadata": {},
     "output_type": "execute_result"
    },
    {
     "data": {
      "image/png": "[encoded data removed]",
      "text/plain": [
       "<Figure size 432x288 with 1 Axes>"
      ]
     },
     "metadata": {
      "needs_background": "light"
     },
     "output_type": "display_data"
    }
   ],
   "source": [
    "# batchsize1_table.plot.bar(x='Método', y='Tempo de Treinamento (min)', rot=0, title=\"Comparação dos Tempos de Treinamento para 40 épocas, com batch size = 1\", color=[\"#1E90FF\", \"#BA55D3\", \"#4169E1\"])\n",
    "batchsize1_table.plot.bar(x='Método', y='Tempo de Treinamento (min)', rot=0)"
   ]
  },
  {
   "cell_type": "code",
   "execution_count": null,
   "metadata": {},
   "outputs": [],
   "source": [
    "batchsize4_table = pd.DataFrame({\"Método\": [\"Keras\", \n",
    "                                            \"JAX\", \n",
    "                                            \"JAX JIT\"], \n",
    "                                 \"Tempo de Treinamento (min)\": [min_secs_to_fraction_minutes(\"10m11s\"), \n",
    "                                          min_secs_to_fraction_minutes(\"39m23s\"), \n",
    "                                          min_secs_to_fraction_minutes(\"8m10s\")]})"
   ]
  },
  {
   "cell_type": "code",
   "execution_count": null,
   "metadata": {},
   "outputs": [],
   "source": [
    "batchsize1_table.plot.bar(x='Método', y='Tempo de Treinamento (min)', rot=0, title=\"Comparação dos Tempos de Treinamento para 40 épocas, com batch size = 1\", color=[\"#1E90FF\", \"#BA55D3\", \"#4169E1\"])"
   ]
  }
 ],
 "metadata": {
  "kernelspec": {
   "display_name": "Python 3.10.4 ('jax_env')",
   "language": "python",
   "name": "python3"
  },
  "language_info": {
   "codemirror_mode": {
    "name": "ipython",
    "version": 3
   },
   "file_extension": ".py",
   "mimetype": "text/x-python",
   "name": "python",
   "nbconvert_exporter": "python",
   "pygments_lexer": "ipython3",
   "version": "3.10.4"
  },
  "orig_nbformat": 4,
  "vscode": {
   "interpreter": {
    "hash": "1949ca9275fbfc4d6c1c85d140cf86b0472284733ff4a69b4d83fbdd8400b22a"
   }
  }
 },
 "nbformat": 4,
 "nbformat_minor": 2
}

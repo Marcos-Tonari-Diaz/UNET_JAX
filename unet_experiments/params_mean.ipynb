{
 "cells": [
  {
   "cell_type": "code",
   "execution_count": 52,
   "metadata": {},
   "outputs": [],
   "source": [
    "import jax\n",
    "import flax.linen as nn\n",
    "from jax import random\n",
    "import jax.numpy as jnp"
   ]
  },
  {
   "cell_type": "code",
   "execution_count": 53,
   "metadata": {},
   "outputs": [],
   "source": [
    "dense1 = nn.Dense(features=1)\n",
    "dense1_params = dense1.init(random.PRNGKey(0), jnp.ones((1)))"
   ]
  },
  {
   "cell_type": "code",
   "execution_count": 54,
   "metadata": {},
   "outputs": [
    {
     "data": {
      "text/plain": [
       "FrozenDict({\n",
       "    params: {\n",
       "        kernel: DeviceArray([[-1.3452858]], dtype=float32),\n",
       "        bias: DeviceArray([0.], dtype=float32),\n",
       "    },\n",
       "})"
      ]
     },
     "execution_count": 54,
     "metadata": {},
     "output_type": "execute_result"
    }
   ],
   "source": [
    "dense1_params"
   ]
  },
  {
   "cell_type": "code",
   "execution_count": 57,
   "metadata": {},
   "outputs": [],
   "source": [
    "def params_mean(param_list):\n",
    "      return jax.tree_map(\n",
    "            lambda *leaves: jnp.asarray(sum(leaves)/len(leaves)).astype(jnp.asarray(leaves[0]).dtype),\n",
    "            *param_list)"
   ]
  },
  {
   "cell_type": "code",
   "execution_count": 58,
   "metadata": {},
   "outputs": [
    {
     "data": {
      "text/plain": [
       "FrozenDict({\n",
       "    params: {\n",
       "        bias: DeviceArray([0.], dtype=float32),\n",
       "        kernel: DeviceArray([[-5.381143]], dtype=float32),\n",
       "    },\n",
       "})"
      ]
     },
     "execution_count": 58,
     "metadata": {},
     "output_type": "execute_result"
    }
   ],
   "source": [
    "params_mean([dense1_params]*4)"
   ]
  }
 ],
 "metadata": {
  "kernelspec": {
   "display_name": "Python 3.10.4 ('jax_env')",
   "language": "python",
   "name": "python3"
  },
  "language_info": {
   "codemirror_mode": {
    "name": "ipython",
    "version": 3
   },
   "file_extension": ".py",
   "mimetype": "text/x-python",
   "name": "python",
   "nbconvert_exporter": "python",
   "pygments_lexer": "ipython3",
   "version": "3.10.4"
  },
  "orig_nbformat": 4,
  "vscode": {
   "interpreter": {
    "hash": "1949ca9275fbfc4d6c1c85d140cf86b0472284733ff4a69b4d83fbdd8400b22a"
   }
  }
 },
 "nbformat": 4,
 "nbformat_minor": 2
}

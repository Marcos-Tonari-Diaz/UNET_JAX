{
 "cells": [
  {
   "cell_type": "code",
   "execution_count": 1,
   "metadata": {},
   "outputs": [],
   "source": [
    "import jax\n",
    "import jax.numpy as jnp\n",
    "from jax import random\n",
    "import flax.linen as nn\n",
    "import optax"
   ]
  },
  {
   "cell_type": "markdown",
   "metadata": {},
   "source": [
    "### Model"
   ]
  },
  {
   "cell_type": "code",
   "execution_count": 2,
   "metadata": {},
   "outputs": [],
   "source": [
    "# input dims [N: number of batches, H, W, C]\n",
    "class UNET_JAX(nn.Module):\n",
    "    input_image_size: int\n",
    "\n",
    "    @staticmethod\n",
    "    def contracting_block(input, num_features):\n",
    "        input = nn.Conv(features=num_features, kernel_size=(3,3), padding='VALID') (input)\n",
    "        input = nn.relu(input)\n",
    "        input = nn.Conv(features=num_features, kernel_size=(3,3), padding='VALID') (input)\n",
    "        input = nn.relu(input)\n",
    "        return input\n",
    "\n",
    "    @staticmethod\n",
    "    def expanding_block(input, residual_feature_map, num_features):\n",
    "        input = nn.ConvTranspose(features=num_features, kernel_size=(2,2), strides=(2,2)) (input)\n",
    "        cropped_feature_map =  UNET_JAX.center_crop_array(residual_feature_map, input.shape[1])\n",
    "        input = jnp.concatenate((input, cropped_feature_map), axis=3)\n",
    "        input = nn.Conv(features=num_features, kernel_size=(3,3), padding='VALID') (input)\n",
    "        input = nn.relu(input)\n",
    "        input = nn.Conv(features=num_features, kernel_size=(3,3), padding='VALID') (input)\n",
    "        input = nn.relu(input)\n",
    "        return input\n",
    "\n",
    "    @staticmethod    \n",
    "    def final_block(input):\n",
    "        return nn.Conv(features=2, kernel_size=(1,1)) (input)\n",
    "\n",
    "    @staticmethod\n",
    "    def max_pool_block(input):\n",
    "        return nn.max_pool(input, window_shape=(2,2), strides=(2,2))\n",
    "\n",
    "    @staticmethod \n",
    "    def center_crop_array(array, new_size):\n",
    "        crop_offset = (array.shape[1] - new_size)//2\n",
    "        return array[:, crop_offset:-crop_offset, crop_offset:-crop_offset, :]\n",
    "\n",
    "    @nn.compact\n",
    "    def __call__(self, input):\n",
    "        contracting_out1 = self.contracting_block(input, 64)\n",
    "        max_pool_out = self.max_pool_block(contracting_out1)\n",
    "        contracting_out2 = self.contracting_block(max_pool_out, 128)\n",
    "        max_pool_out = self.max_pool_block(contracting_out2)\n",
    "        contracting_out3 = self.contracting_block(max_pool_out, 256)\n",
    "        max_pool_out = self.max_pool_block(contracting_out3)\n",
    "        contracting_out4 = self.contracting_block(max_pool_out, 512)\n",
    "        max_pool_out = self.max_pool_block(contracting_out4)\n",
    "        contracting_out5 = self.contracting_block(max_pool_out, 1024)\n",
    "        output = self.expanding_block(contracting_out5, contracting_out4, 512)\n",
    "        output = self.expanding_block(output, contracting_out3, 256)\n",
    "        output = self.expanding_block(output, contracting_out2, 128)\n",
    "        output = self.expanding_block(output, contracting_out1, 64)\n",
    "        output = self.final_block(output)\n",
    "        print(output.shape)\n",
    "        return output\n",
    "\n",
    "    def init_unet(self, rng):\n",
    "        input_size_dummy = jnp.ones([1,self.input_image_size, self.input_image_size,1])\n",
    "        params = self.init(rng, input_size_dummy)\n",
    "        return params"
   ]
  },
  {
   "cell_type": "code",
   "execution_count": 3,
   "metadata": {},
   "outputs": [
    {
     "name": "stderr",
     "output_type": "stream",
     "text": [
      "WARNING:absl:No GPU/TPU found, falling back to CPU. (Set TF_CPP_MIN_LOG_LEVEL=0 and rerun for more info.)\n"
     ]
    },
    {
     "name": "stdout",
     "output_type": "stream",
     "text": [
      "(1, 388, 388, 2)\n"
     ]
    },
    {
     "data": {
      "text/plain": [
       "FrozenDict({\n",
       "    params: {\n",
       "        ConvTranspose_0: {\n",
       "            bias: (512,),\n",
       "            kernel: (2, 2, 1024, 512),\n",
       "        },\n",
       "        ConvTranspose_1: {\n",
       "            bias: (256,),\n",
       "            kernel: (2, 2, 512, 256),\n",
       "        },\n",
       "        ConvTranspose_2: {\n",
       "            bias: (128,),\n",
       "            kernel: (2, 2, 256, 128),\n",
       "        },\n",
       "        ConvTranspose_3: {\n",
       "            bias: (64,),\n",
       "            kernel: (2, 2, 128, 64),\n",
       "        },\n",
       "        Conv_0: {\n",
       "            bias: (64,),\n",
       "            kernel: (3, 3, 1, 64),\n",
       "        },\n",
       "        Conv_1: {\n",
       "            bias: (64,),\n",
       "            kernel: (3, 3, 64, 64),\n",
       "        },\n",
       "        Conv_10: {\n",
       "            bias: (512,),\n",
       "            kernel: (3, 3, 1024, 512),\n",
       "        },\n",
       "        Conv_11: {\n",
       "            bias: (512,),\n",
       "            kernel: (3, 3, 512, 512),\n",
       "        },\n",
       "        Conv_12: {\n",
       "            bias: (256,),\n",
       "            kernel: (3, 3, 512, 256),\n",
       "        },\n",
       "        Conv_13: {\n",
       "            bias: (256,),\n",
       "            kernel: (3, 3, 256, 256),\n",
       "        },\n",
       "        Conv_14: {\n",
       "            bias: (128,),\n",
       "            kernel: (3, 3, 256, 128),\n",
       "        },\n",
       "        Conv_15: {\n",
       "            bias: (128,),\n",
       "            kernel: (3, 3, 128, 128),\n",
       "        },\n",
       "        Conv_16: {\n",
       "            bias: (64,),\n",
       "            kernel: (3, 3, 128, 64),\n",
       "        },\n",
       "        Conv_17: {\n",
       "            bias: (64,),\n",
       "            kernel: (3, 3, 64, 64),\n",
       "        },\n",
       "        Conv_18: {\n",
       "            bias: (2,),\n",
       "            kernel: (1, 1, 64, 2),\n",
       "        },\n",
       "        Conv_2: {\n",
       "            bias: (128,),\n",
       "            kernel: (3, 3, 64, 128),\n",
       "        },\n",
       "        Conv_3: {\n",
       "            bias: (128,),\n",
       "            kernel: (3, 3, 128, 128),\n",
       "        },\n",
       "        Conv_4: {\n",
       "            bias: (256,),\n",
       "            kernel: (3, 3, 128, 256),\n",
       "        },\n",
       "        Conv_5: {\n",
       "            bias: (256,),\n",
       "            kernel: (3, 3, 256, 256),\n",
       "        },\n",
       "        Conv_6: {\n",
       "            bias: (512,),\n",
       "            kernel: (3, 3, 256, 512),\n",
       "        },\n",
       "        Conv_7: {\n",
       "            bias: (512,),\n",
       "            kernel: (3, 3, 512, 512),\n",
       "        },\n",
       "        Conv_8: {\n",
       "            bias: (1024,),\n",
       "            kernel: (3, 3, 512, 1024),\n",
       "        },\n",
       "        Conv_9: {\n",
       "            bias: (1024,),\n",
       "            kernel: (3, 3, 1024, 1024),\n",
       "        },\n",
       "    },\n",
       "})"
      ]
     },
     "execution_count": 3,
     "metadata": {},
     "output_type": "execute_result"
    }
   ],
   "source": [
    "key = random.PRNGKey(0)\n",
    "unet = UNET_JAX(input_image_size=572)\n",
    "unet_params = unet.init_unet(key)\n",
    "jax.tree_map(lambda x: x.shape, unet_params) # Checking output shapes"
   ]
  },
  {
   "cell_type": "markdown",
   "metadata": {},
   "source": [
    "### Training\n"
   ]
  },
  {
   "cell_type": "code",
   "execution_count": null,
   "metadata": {},
   "outputs": [],
   "source": [
    "def loss_function(logits, labels):\n",
    "    return optax.softmax_cross_entropy(logits= logits, labels=labels)"
   ]
  },
  {
   "cell_type": "code",
   "execution_count": null,
   "metadata": {},
   "outputs": [],
   "source": [
    "def create_training_state(rng, optimizer):\n",
    "    unet_init_params = UNET_JAX.init_unet(rng)"
   ]
  },
  {
   "cell_type": "code",
   "execution_count": null,
   "metadata": {},
   "outputs": [],
   "source": [
    "def apply_model(state, images, labels):"
   ]
  }
 ],
 "metadata": {
  "interpreter": {
   "hash": "6492e545f0af335fe28b1dcaae8a2553f2b3b5844f2707f3bf67d1d5651f0cb9"
  },
  "kernelspec": {
   "display_name": "Python 3.6.9 ('jax': venv)",
   "language": "python",
   "name": "python3"
  },
  "language_info": {
   "codemirror_mode": {
    "name": "ipython",
    "version": 3
   },
   "file_extension": ".py",
   "mimetype": "text/x-python",
   "name": "python",
   "nbconvert_exporter": "python",
   "pygments_lexer": "ipython3",
   "version": "3.6.9"
  },
  "orig_nbformat": 4
 },
 "nbformat": 4,
 "nbformat_minor": 2
}

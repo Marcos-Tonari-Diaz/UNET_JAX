{
 "cells": [
  {
   "cell_type": "code",
   "execution_count": 1,
   "metadata": {},
   "outputs": [],
   "source": [
    "import jax.numpy as jnp\n",
    "import flax.linen as nn\n",
    "import optax"
   ]
  },
  {
   "cell_type": "markdown",
   "metadata": {},
   "source": [
    "### Model"
   ]
  },
  {
   "cell_type": "code",
   "execution_count": 2,
   "metadata": {},
   "outputs": [],
   "source": [
    "# input dims (channels, rows, columns)\n",
    "class UNET_JAX(nn.Module):\n",
    "    @staticmethod\n",
    "    def contracting_block(input, num_features):\n",
    "        input = nn.Conv(features=num_features, kernel_size=(3,3)) (input)\n",
    "        input = nn.relu(input)\n",
    "        input = nn.Conv(features=num_features, kernel_size=(3,3)) (input)\n",
    "        input = nn.relu(input)\n",
    "        return input\n",
    "\n",
    "    @staticmethod\n",
    "    def expanding_block(input, residual_feature_map, num_features):\n",
    "        cropped_feature_map =  UNET_JAX.center_crop_array(residual_feature_map, input.shape[1])\n",
    "        input = nn.ConvTranspose(features=num_features, kernel_size=(2,2), strides=(2,2))\n",
    "        input = jnp.hstack((input, cropped_feature_map))\n",
    "        input = nn.Conv(features=num_features, kernel_size=(3,3)) (input)\n",
    "        input = nn.relu(input)\n",
    "        input = nn.Conv(features=num_features, kernel_size=(3,3)) (input)\n",
    "        input = nn.relu(input)\n",
    "        return input\n",
    "\n",
    "    @staticmethod    \n",
    "    def final_block(input):\n",
    "        return nn.Conv(features=2, kernel_size=(1,1)) (input)\n",
    "\n",
    "    @staticmethod\n",
    "    def max_pool_block(input):\n",
    "        return nn.max_pool(input, window_shape=(2,2))\n",
    "\n",
    "    @staticmethod \n",
    "    def center_crop_array(array, new_size):\n",
    "        crop_offset = (array.shape[1] - new_size)//2\n",
    "        return array[:, crop_offset:-crop_offset, crop_offset:-crop_offset]\n",
    "\n",
    "    def __call__(self, input):\n",
    "        contracting_out1 = self.contracting_block(input, 64)\n",
    "        max_pool_out = self.max_pool_block(contracting_out1)\n",
    "        contracting_out2 = self.contracting_block(max_pool_out, 128)\n",
    "        max_pool_out = self.max_pool_block(contracting_out2)\n",
    "        contracting_out3 = self.contracting_block(max_pool_out, 256)\n",
    "        max_pool_out = self.max_pool_block(contracting_out3)\n",
    "        contracting_out4 = self.contracting_block(max_pool_out, 512)\n",
    "        max_pool_out = self.max_pool_block(contracting_out4)\n",
    "        contracting_out5 = self.contracting_block(max_pool_out, 1024)\n",
    "        contracting_out4 = contracting_out4\n",
    "        output = self.expanding_block(contracting_out5, contracting_out4, 512)\n",
    "        output = self.expanding_block(output, contracting_out3, 256)\n",
    "        output = self.expanding_block(output, contracting_out2, 128)\n",
    "        output = self.expanding_block(output, contracting_out1, 64)\n",
    "        output = self.final_block(output)\n",
    "        return output\n",
    "\n",
    "    def init_unet(self, rng):\n",
    "        unet = UNET_JAX()\n",
    "        input_image_size = 572\n",
    "        input_size_dummy = jnp.ones(1, input_image_size, input_image_size) \n",
    "        params = unet.init(rng, input_size_dummy)\n",
    "        return params"
   ]
  },
  {
   "cell_type": "markdown",
   "metadata": {},
   "source": [
    "### Training\n"
   ]
  },
  {
   "cell_type": "code",
   "execution_count": 4,
   "metadata": {},
   "outputs": [
    {
     "ename": "TypeError",
     "evalue": "softmax_cross_entropy() missing 2 required positional arguments: 'logits' and 'labels'",
     "output_type": "error",
     "traceback": [
      "\u001b[0;31m---------------------------------------------------------------------------\u001b[0m",
      "\u001b[0;31mTypeError\u001b[0m                                 Traceback (most recent call last)",
      "\u001b[0;32m<ipython-input-4-4a5c492cbc13>\u001b[0m in \u001b[0;36m<module>\u001b[0;34m\u001b[0m\n\u001b[0;32m----> 1\u001b[0;31m \u001b[0moptax\u001b[0m\u001b[0;34m.\u001b[0m\u001b[0msoftmax_cross_entropy\u001b[0m\u001b[0;34m(\u001b[0m\u001b[0;34m)\u001b[0m\u001b[0;34m\u001b[0m\u001b[0;34m\u001b[0m\u001b[0m\n\u001b[0m",
      "\u001b[0;31mTypeError\u001b[0m: softmax_cross_entropy() missing 2 required positional arguments: 'logits' and 'labels'"
     ]
    }
   ],
   "source": [
    "def loss_function(logits, labels):\n",
    "    return optax.softmax_cross_entropy(logits= logits, labels=labels)"
   ]
  },
  {
   "cell_type": "markdown",
   "metadata": {},
   "source": []
  },
  {
   "cell_type": "code",
   "execution_count": null,
   "metadata": {},
   "outputs": [],
   "source": [
    "def create_training_state(rng, optimizer):\n",
    "    unet_init_params = UNET_JA"
   ]
  },
  {
   "cell_type": "code",
   "execution_count": null,
   "metadata": {},
   "outputs": [],
   "source": [
    "def apply_model(state, images, labels):"
   ]
  }
 ],
 "metadata": {
  "interpreter": {
   "hash": "6492e545f0af335fe28b1dcaae8a2553f2b3b5844f2707f3bf67d1d5651f0cb9"
  },
  "kernelspec": {
   "display_name": "Python 3.6.9 ('jax': venv)",
   "language": "python",
   "name": "python3"
  },
  "language_info": {
   "codemirror_mode": {
    "name": "ipython",
    "version": 3
   },
   "file_extension": ".py",
   "mimetype": "text/x-python",
   "name": "python",
   "nbconvert_exporter": "python",
   "pygments_lexer": "ipython3",
   "version": "3.6.9"
  },
  "orig_nbformat": 4
 },
 "nbformat": 4,
 "nbformat_minor": 2
}

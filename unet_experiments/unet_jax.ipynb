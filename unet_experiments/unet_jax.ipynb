{
 "cells": [
  {
   "cell_type": "code",
   "execution_count": 32,
   "metadata": {},
   "outputs": [],
   "source": [
    "import jax\n",
    "import jax.numpy as jnp\n",
    "from jax import random\n",
    "import flax.linen as nn\n",
    "import optax"
   ]
  },
  {
   "cell_type": "markdown",
   "metadata": {},
   "source": [
    "### Model"
   ]
  },
  {
   "cell_type": "code",
   "execution_count": 33,
   "metadata": {},
   "outputs": [],
   "source": [
    "# input dims [N: number of batches, H, W, C]\n",
    "class UNET_JAX(nn.Module):\n",
    "    input_image_size: int\n",
    "\n",
    "    @staticmethod\n",
    "    def contracting_block(input, num_features):\n",
    "        input = nn.Conv(features=num_features, kernel_size=(3,3)) (input)\n",
    "        # input = nn.Conv(features=num_features, kernel_size=(3,3), padding='VALID') (input)\n",
    "        input = nn.relu(input)\n",
    "        input = nn.Conv(features=num_features, kernel_size=(3,3)) (input)\n",
    "        # input = nn.Conv(features=num_features, kernel_size=(3,3), padding='VALID') (input)\n",
    "        input = nn.relu(input)\n",
    "        return input\n",
    "\n",
    "    @staticmethod\n",
    "    def expanding_block(input, residual_feature_map, num_features):\n",
    "        input = nn.ConvTranspose(features=num_features, kernel_size=(2,2), strides=(2,2)) (input)\n",
    "        cropped_feature_map =  residual_feature_map\n",
    "        # cropped_feature_map =  UNET_JAX.center_crop_array(residual_feature_map, input.shape[1])\n",
    "        input = jnp.concatenate((input, cropped_feature_map), axis=3)\n",
    "        input = nn.Conv(features=num_features, kernel_size=(3,3)) (input)\n",
    "        # input = nn.Conv(features=num_features, kernel_size=(3,3), padding='VALID') (input)\n",
    "        input = nn.relu(input)\n",
    "        input = nn.Conv(features=num_features, kernel_size=(3,3)) (input)\n",
    "        # input = nn.Conv(features=num_features, kernel_size=(3,3), padding='VALID') (input)\n",
    "        input = nn.relu(input)\n",
    "        return input\n",
    "\n",
    "    @staticmethod    \n",
    "    def final_block(input):\n",
    "        return nn.Conv(features=1, kernel_size=(1,1)) (input)\n",
    "        # input = nn.Conv(features=1, kernel_size=(1,1)) (input) \n",
    "        # return nn.sigmoid(input)\n",
    "\n",
    "    @staticmethod\n",
    "    def max_pool_block(input):\n",
    "        return nn.max_pool(input, window_shape=(2,2), strides=(2,2))\n",
    "\n",
    "    @staticmethod \n",
    "    def center_crop_array(array, new_size):\n",
    "        crop_offset = (array.shape[1] - new_size)//2\n",
    "        return array[:, crop_offset:-crop_offset, crop_offset:-crop_offset, :]\n",
    "\n",
    "    @nn.compact\n",
    "    def __call__(self, input):\n",
    "        contracting_out1 = self.contracting_block(input, 64)\n",
    "        max_pool_out = self.max_pool_block(contracting_out1)\n",
    "        contracting_out2 = self.contracting_block(max_pool_out, 128)\n",
    "        max_pool_out = self.max_pool_block(contracting_out2)\n",
    "        contracting_out3 = self.contracting_block(max_pool_out, 256)\n",
    "        max_pool_out = self.max_pool_block(contracting_out3)\n",
    "        contracting_out4 = self.contracting_block(max_pool_out, 512)\n",
    "        max_pool_out = self.max_pool_block(contracting_out4)\n",
    "        contracting_out5 = self.contracting_block(max_pool_out, 1024)\n",
    "        output = self.expanding_block(contracting_out5, contracting_out4, 512)\n",
    "        output = self.expanding_block(output, contracting_out3, 256)\n",
    "        output = self.expanding_block(output, contracting_out2, 128)\n",
    "        output = self.expanding_block(output, contracting_out1, 64)\n",
    "        output = self.final_block(output)\n",
    "        return output\n",
    "\n",
    "    def init_params(self, rng):\n",
    "        input_size_dummy = jnp.ones([1,self.input_image_size, self.input_image_size,1])\n",
    "        params = self.init(rng, input_size_dummy)\n",
    "        return params"
   ]
  },
  {
   "cell_type": "code",
   "execution_count": 34,
   "metadata": {},
   "outputs": [],
   "source": [
    "key = random.PRNGKey(0)\n",
    "#changed input_image_size to 512 due to dataset shape\n",
    "unet = UNET_JAX(input_image_size=512)\n",
    "unet_params = unet.init_params(key)\n",
    "#jax.tree_map(lambda x: x.shape, unet_params) # Checking output shapes\n",
    "dummy_in = jnp.ones([1,512,512,1])\n",
    "dummy_out = unet.apply(unet_params, dummy_in)"
   ]
  },
  {
   "cell_type": "code",
   "execution_count": 35,
   "metadata": {},
   "outputs": [
    {
     "data": {
      "text/plain": [
       "(1, 512, 512, 1)"
      ]
     },
     "execution_count": 35,
     "metadata": {},
     "output_type": "execute_result"
    }
   ],
   "source": [
    "dummy_out.shape"
   ]
  },
  {
   "cell_type": "markdown",
   "metadata": {},
   "source": [
    "### Data Loading"
   ]
  },
  {
   "cell_type": "code",
   "execution_count": 9,
   "metadata": {},
   "outputs": [],
   "source": [
    "import glob\n",
    "masks = glob.glob(\"../data/isbi2015/train/label/*.png\")\n",
    "orgs = glob.glob(\"../data/isbi2015/train/image/*.png\")"
   ]
  },
  {
   "cell_type": "code",
   "execution_count": 15,
   "metadata": {},
   "outputs": [],
   "source": [
    "from PIL import Image\n",
    "imgs_list = []\n",
    "masks_list = []\n",
    "for image, mask in zip(orgs, masks):\n",
    "    imgs_list.append(jnp.array(Image.open(image).resize((512,512))))\n",
    "    masks_list.append(jnp.array(Image.open(mask).resize((512,512))))\n",
    "imgs_np = jnp.asarray(imgs_list)\n",
    "masks_np = jnp.asarray(masks_list)"
   ]
  },
  {
   "cell_type": "code",
   "execution_count": 16,
   "metadata": {},
   "outputs": [
    {
     "name": "stdout",
     "output_type": "stream",
     "text": [
      "(30, 512, 512) (30, 512, 512)\n"
     ]
    }
   ],
   "source": [
    "print(imgs_np.shape, masks_np.shape)"
   ]
  },
  {
   "cell_type": "markdown",
   "metadata": {},
   "source": [
    "### Data preparation"
   ]
  },
  {
   "cell_type": "markdown",
   "metadata": {},
   "source": [
    "#### Input Range"
   ]
  },
  {
   "cell_type": "code",
   "execution_count": 23,
   "metadata": {},
   "outputs": [
    {
     "name": "stdout",
     "output_type": "stream",
     "text": [
      "255 255\n"
     ]
    }
   ],
   "source": [
    "print(imgs_np.max(), masks_np.max())"
   ]
  },
  {
   "cell_type": "code",
   "execution_count": 24,
   "metadata": {},
   "outputs": [],
   "source": [
    "images = jnp.asarray(imgs_np, dtype=jnp.float32)/255\n",
    "masks = jnp.asarray(masks_np, dtype=jnp.float32)/255"
   ]
  },
  {
   "cell_type": "code",
   "execution_count": 25,
   "metadata": {},
   "outputs": [
    {
     "name": "stdout",
     "output_type": "stream",
     "text": [
      "1.0 1.0\n"
     ]
    }
   ],
   "source": [
    "print(images.max(), masks.max())"
   ]
  },
  {
   "cell_type": "markdown",
   "metadata": {},
   "source": [
    "#### Input Shape"
   ]
  },
  {
   "cell_type": "code",
   "execution_count": 26,
   "metadata": {},
   "outputs": [
    {
     "name": "stdout",
     "output_type": "stream",
     "text": [
      "(30, 512, 512, 1)\n",
      "(30, 512, 512, 1, 1)\n"
     ]
    }
   ],
   "source": [
    "images = images.reshape(images.shape + (1,))\n",
    "masks = masks.reshape(y.shape + (1,))\n",
    "print(images.shape)\n",
    "print(masks.shape)"
   ]
  },
  {
   "cell_type": "code",
   "execution_count": 31,
   "metadata": {},
   "outputs": [
    {
     "data": {
      "text/plain": [
       "DeviceArray(0.37254903, dtype=float32)"
      ]
     },
     "execution_count": 31,
     "metadata": {},
     "output_type": "execute_result"
    }
   ],
   "source": [
    "images[0,0,0,0]"
   ]
  },
  {
   "cell_type": "markdown",
   "metadata": {},
   "source": [
    "### Training\n"
   ]
  },
  {
   "cell_type": "markdown",
   "metadata": {},
   "source": [
    "#### Metrics"
   ]
  },
  {
   "cell_type": "code",
   "execution_count": 7,
   "metadata": {},
   "outputs": [],
   "source": [
    "# expects unnormalized log probabilities as logits\n",
    "def compute_loss_function(logits, labels):\n",
    "    return optax.sigmoid_binary_cross_entropy(logits= logits, labels=labels).mean()"
   ]
  },
  {
   "cell_type": "code",
   "execution_count": null,
   "metadata": {},
   "outputs": [],
   "source": [
    "compute_loss_grad = jax.grad(compute_loss_function)"
   ]
  },
  {
   "cell_type": "code",
   "execution_count": 6,
   "metadata": {},
   "outputs": [],
   "source": [
    "def logits_to_binary(logits):\n",
    "    logits = nn.sigmoid(logits)\n",
    "    logits = logits.round()\n",
    "    return logits\n",
    "\n",
    "def compute_accuracy(logits, labels):\n",
    "    return jnp.mean(logits_to_binary(logits) == labels)"
   ]
  },
  {
   "cell_type": "code",
   "execution_count": 8,
   "metadata": {},
   "outputs": [],
   "source": [
    "def compute_metrics(logits, labels):\n",
    "    loss = compute_loss_function(logits, labels)\n",
    "    accuracy = compute_accuracy(logits, labels)\n",
    "    metrics = {\n",
    "        'loss': loss,\n",
    "        'accuracy': accuracy,\n",
    "    }\n",
    "    return metrics"
   ]
  },
  {
   "cell_type": "markdown",
   "metadata": {},
   "source": [
    "#### Train Steps"
   ]
  },
  {
   "cell_type": "code",
   "execution_count": null,
   "metadata": {},
   "outputs": [],
   "source": [
    "from flax.training import train_state\n",
    "def create_training_state(rng, optimizer):\n",
    "    unet = UNET_JAX(input_image_size=512)\n",
    "    unet_params = unet.init_params(key)\n",
    "    return train_state.TrainState.create(apply_fn=unet.apply, params=unet_params, tx=optimizer)"
   ]
  },
  {
   "cell_type": "code",
   "execution_count": null,
   "metadata": {},
   "outputs": [],
   "source": [
    "class UnetState():\n",
    "    params = None\n",
    "    train_state = None\n",
    "    unet : UNET_JAX\n",
    "    def train_step(self, batch):\n",
    "        logits = unet.apply(self.train_state, batch['image']) \n",
    "        grads = compute_loss_grad(logits, batch['label'])\n",
    "        self.train_state = self.train_state.apply_gradients(grads=grads)\n",
    "        print(compute_accuracy(logits=logits, labels=batch['label']))"
   ]
  },
  {
   "cell_type": "code",
   "execution_count": null,
   "metadata": {},
   "outputs": [],
   "source": [
    "def apply_model(state, images, labels):"
   ]
  }
 ],
 "metadata": {
  "interpreter": {
   "hash": "6492e545f0af335fe28b1dcaae8a2553f2b3b5844f2707f3bf67d1d5651f0cb9"
  },
  "kernelspec": {
   "display_name": "Python 3.6.9 ('jax': venv)",
   "language": "python",
   "name": "python3"
  },
  "language_info": {
   "codemirror_mode": {
    "name": "ipython",
    "version": 3
   },
   "file_extension": ".py",
   "mimetype": "text/x-python",
   "name": "python",
   "nbconvert_exporter": "python",
   "pygments_lexer": "ipython3",
   "version": "3.6.9"
  },
  "orig_nbformat": 4
 },
 "nbformat": 4,
 "nbformat_minor": 2
}

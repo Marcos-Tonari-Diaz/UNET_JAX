{
 "cells": [
  {
   "cell_type": "code",
   "execution_count": 23,
   "metadata": {},
   "outputs": [],
   "source": [
    "import jax\n",
    "import flax.linen as nn\n",
    "from jax import random\n",
    "import jax.numpy as jnp\n",
    "import functools"
   ]
  },
  {
   "cell_type": "code",
   "execution_count": 24,
   "metadata": {},
   "outputs": [],
   "source": [
    "dense1 = nn.Dense(features=1)\n",
    "dense1_params = dense1.init(random.PRNGKey(0), jnp.ones((1)))"
   ]
  },
  {
   "cell_type": "code",
   "execution_count": 25,
   "metadata": {},
   "outputs": [
    {
     "data": {
      "text/plain": [
       "FrozenDict({\n",
       "    params: {\n",
       "        kernel: DeviceArray([[-1.3452858]], dtype=float32),\n",
       "        bias: DeviceArray([0.], dtype=float32),\n",
       "    },\n",
       "})"
      ]
     },
     "execution_count": 25,
     "metadata": {},
     "output_type": "execute_result"
    }
   ],
   "source": [
    "dense1_params"
   ]
  },
  {
   "cell_type": "code",
   "execution_count": 33,
   "metadata": {},
   "outputs": [
    {
     "data": {
      "text/plain": [
       "DeviceArray([[-1.3452858]], dtype=float32)"
      ]
     },
     "execution_count": 33,
     "metadata": {},
     "output_type": "execute_result"
    }
   ],
   "source": [
    "dense1_params[\"params\"][\"kernel\"]"
   ]
  },
  {
   "cell_type": "code",
   "execution_count": 26,
   "metadata": {},
   "outputs": [],
   "source": [
    "@functools.partial(jax.vmap, in_axes=(None, 0))\n",
    "def params_identity(params, batch):\n",
    "    return params"
   ]
  },
  {
   "cell_type": "code",
   "execution_count": 27,
   "metadata": {},
   "outputs": [
    {
     "data": {
      "text/plain": [
       "DeviceArray([[0],\n",
       "             [0],\n",
       "             [0],\n",
       "             [0]], dtype=int32)"
      ]
     },
     "execution_count": 27,
     "metadata": {},
     "output_type": "execute_result"
    }
   ],
   "source": [
    "batch = jnp.array([[0]]*4)\n",
    "batch"
   ]
  },
  {
   "cell_type": "code",
   "execution_count": 37,
   "metadata": {},
   "outputs": [
    {
     "data": {
      "text/plain": [
       "DeviceArray([[[-1.3452858]],\n",
       "\n",
       "             [[-1.3452858]],\n",
       "\n",
       "             [[-1.3452858]],\n",
       "\n",
       "             [[-1.3452858]]], dtype=float32)"
      ]
     },
     "execution_count": 37,
     "metadata": {},
     "output_type": "execute_result"
    }
   ],
   "source": [
    "batched_params = params_identity(dense1_params, batch)\n",
    "batched_params[\"params\"][\"kernel\"]"
   ]
  },
  {
   "cell_type": "code",
   "execution_count": 51,
   "metadata": {},
   "outputs": [
    {
     "data": {
      "text/plain": [
       "FrozenDict({\n",
       "    params: {\n",
       "        bias: DeviceArray([[0.],\n",
       "                     [0.],\n",
       "                     [0.],\n",
       "                     [0.]], dtype=float32),\n",
       "        kernel: DeviceArray([[[-1.3452858]],\n",
       "        \n",
       "                     [[-1.3452858]],\n",
       "        \n",
       "                     [[-1.3452858]],\n",
       "        \n",
       "                     [[-1.3452858]]], dtype=float32),\n",
       "    },\n",
       "})"
      ]
     },
     "execution_count": 51,
     "metadata": {},
     "output_type": "execute_result"
    }
   ],
   "source": [
    "batched_params"
   ]
  },
  {
   "cell_type": "code",
   "execution_count": 43,
   "metadata": {},
   "outputs": [],
   "source": [
    "def print_params_leaves(batched_params):\n",
    "      return jax.tree_map(\n",
    "            lambda leaf: print(f'leaf: {type(leaf)}'),batched_params)"
   ]
  },
  {
   "cell_type": "code",
   "execution_count": 44,
   "metadata": {},
   "outputs": [
    {
     "name": "stdout",
     "output_type": "stream",
     "text": [
      "leaf: <class 'jaxlib.xla_extension.DeviceArray'>\n",
      "leaf: <class 'jaxlib.xla_extension.DeviceArray'>\n"
     ]
    }
   ],
   "source": [
    "result = print_params_leaves(batched_params)"
   ]
  },
  {
   "cell_type": "code",
   "execution_count": 50,
   "metadata": {},
   "outputs": [
    {
     "data": {
      "text/plain": [
       "FrozenDict({\n",
       "    params: {\n",
       "        bias: None,\n",
       "        kernel: None,\n",
       "    },\n",
       "})"
      ]
     },
     "execution_count": 50,
     "metadata": {},
     "output_type": "execute_result"
    }
   ],
   "source": [
    "type(result)\n",
    "result"
   ]
  },
  {
   "cell_type": "code",
   "execution_count": 45,
   "metadata": {},
   "outputs": [
    {
     "data": {
      "text/plain": [
       "DeviceArray(2., dtype=float32)"
      ]
     },
     "execution_count": 45,
     "metadata": {},
     "output_type": "execute_result"
    }
   ],
   "source": [
    "array = jnp.array([1,2,3])\n",
    "array.mean()\n"
   ]
  },
  {
   "cell_type": "code",
   "execution_count": 47,
   "metadata": {},
   "outputs": [],
   "source": [
    "def params_mean(batched_params):\n",
    "      return jax.tree_map(\n",
    "            lambda leaf: leaf.mean(),\n",
    "            batched_params)"
   ]
  },
  {
   "cell_type": "code",
   "execution_count": 48,
   "metadata": {},
   "outputs": [
    {
     "data": {
      "text/plain": [
       "FrozenDict({\n",
       "    params: {\n",
       "        bias: DeviceArray(0., dtype=float32),\n",
       "        kernel: DeviceArray(-1.3452858, dtype=float32),\n",
       "    },\n",
       "})"
      ]
     },
     "execution_count": 48,
     "metadata": {},
     "output_type": "execute_result"
    }
   ],
   "source": [
    "params_mean(batched_params)"
   ]
  }
 ],
 "metadata": {
  "kernelspec": {
   "display_name": "Python 3.10.4 ('jax_env')",
   "language": "python",
   "name": "python3"
  },
  "language_info": {
   "codemirror_mode": {
    "name": "ipython",
    "version": 3
   },
   "file_extension": ".py",
   "mimetype": "text/x-python",
   "name": "python",
   "nbconvert_exporter": "python",
   "pygments_lexer": "ipython3",
   "version": "3.10.4"
  },
  "orig_nbformat": 4,
  "vscode": {
   "interpreter": {
    "hash": "1949ca9275fbfc4d6c1c85d140cf86b0472284733ff4a69b4d83fbdd8400b22a"
   }
  }
 },
 "nbformat": 4,
 "nbformat_minor": 2
}

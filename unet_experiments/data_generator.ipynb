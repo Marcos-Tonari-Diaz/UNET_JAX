{
 "cells": [
  {
   "cell_type": "code",
   "execution_count": 1,
   "metadata": {},
   "outputs": [],
   "source": [
    "import jax.numpy as jnp\n",
    "from jax import random\n",
    "import jax\n",
    "import numpy as np"
   ]
  },
  {
   "cell_type": "code",
   "execution_count": 2,
   "metadata": {},
   "outputs": [
    {
     "name": "stderr",
     "output_type": "stream",
     "text": [
      "2022-05-31 20:11:21.827929: W tensorflow/stream_executor/platform/default/dso_loader.cc:64] Could not load dynamic library 'libcudart.so.11.0'; dlerror: libcudart.so.11.0: cannot open shared object file: No such file or directory\n"
     ]
    }
   ],
   "source": [
    "from keras.preprocessing.image import ImageDataGenerator\n",
    "\n",
    "# Runtime data augmentation\n",
    "def get_augmented_data_generator(\n",
    "    X_train,\n",
    "    Y_train,\n",
    "    seed=0,\n",
    "    data_gen_args=dict(\n",
    "        rotation_range=10.0,\n",
    "        # width_shift_range=0.02,\n",
    "        height_shift_range=0.02,\n",
    "        shear_range=5,\n",
    "        # zoom_range=0.3,\n",
    "        horizontal_flip=True,\n",
    "        vertical_flip=False,\n",
    "        fill_mode=\"constant\",\n",
    "    ),\n",
    "):\n",
    "    # Train data, provide the same seed and keyword arguments to the fit and flow methods\n",
    "    X_datagen = ImageDataGenerator(**data_gen_args)\n",
    "    Y_datagen = ImageDataGenerator(**data_gen_args)\n",
    "    X_datagen.fit(X_train, augment=True, seed=seed)\n",
    "    Y_datagen.fit(Y_train, augment=True, seed=seed)\n",
    "    X_train_augmented = X_datagen.flow(\n",
    "        X_train, batch_size=1, shuffle=True, seed=seed\n",
    "    )\n",
    "    Y_train_augmented = Y_datagen.flow(\n",
    "        Y_train, batch_size=1, shuffle=True, seed=seed\n",
    "    )\n",
    "\n",
    "    train_generator = zip(X_train_augmented, Y_train_augmented)\n",
    "\n",
    "    return train_generator"
   ]
  },
  {
   "cell_type": "code",
   "execution_count": 3,
   "metadata": {},
   "outputs": [],
   "source": [
    "class UnetDataGenerator:\n",
    "    def __init__(self, images, masks):\n",
    "        self.keras_generator = get_augmented_data_generator(images, masks)\n",
    "\n",
    "    def get_batch(self):\n",
    "        image, mask = next(self.keras_generator)\n",
    "        image = jax.device_put(image)\n",
    "        mask = jax.device_put(mask)\n",
    "        return {\"image\": image, \"mask\": mask}\n",
    "\n",
    "    def get_batch_numpy(self):\n",
    "        return next(self.keras_generator)"
   ]
  },
  {
   "cell_type": "code",
   "execution_count": 4,
   "metadata": {},
   "outputs": [],
   "source": [
    "from PIL import Image\n",
    "import glob\n",
    "\n",
    "masks = glob.glob(\"../data/isbi2015/train/label/*.png\")\n",
    "orgs = glob.glob(\"../data/isbi2015/train/image/*.png\")\n",
    "imgs_list = []\n",
    "masks_list = []\n",
    "for image, mask in zip(orgs, masks):\n",
    "    imgs_list.append(np.array(Image.open(image).resize((512,512))))\n",
    "    masks_list.append(np.array(Image.open(mask).resize((512,512))))\n",
    "imgs_np = np.asarray(imgs_list).reshape((30,512,512,1))\n",
    "masks_np = np.asarray(masks_list).reshape((30,512,512,1))\n",
    "dataset = {\"images\": imgs_np, \"masks\": masks_np}"
   ]
  },
  {
   "cell_type": "code",
   "execution_count": 5,
   "metadata": {},
   "outputs": [
    {
     "name": "stderr",
     "output_type": "stream",
     "text": [
      "WARNING:absl:No GPU/TPU found, falling back to CPU. (Set TF_CPP_MIN_LOG_LEVEL=0 and rerun for more info.)\n"
     ]
    },
    {
     "data": {
      "text/plain": [
       "DeviceArray([[[[0.],\n",
       "               [0.],\n",
       "               [0.],\n",
       "               ...,\n",
       "               [0.],\n",
       "               [0.],\n",
       "               [0.]],\n",
       "\n",
       "              [[0.],\n",
       "               [0.],\n",
       "               [0.],\n",
       "               ...,\n",
       "               [0.],\n",
       "               [0.],\n",
       "               [0.]],\n",
       "\n",
       "              [[0.],\n",
       "               [0.],\n",
       "               [0.],\n",
       "               ...,\n",
       "               [0.],\n",
       "               [0.],\n",
       "               [0.]],\n",
       "\n",
       "              ...,\n",
       "\n",
       "              [[0.],\n",
       "               [0.],\n",
       "               [0.],\n",
       "               ...,\n",
       "               [0.],\n",
       "               [0.],\n",
       "               [0.]],\n",
       "\n",
       "              [[0.],\n",
       "               [0.],\n",
       "               [0.],\n",
       "               ...,\n",
       "               [0.],\n",
       "               [0.],\n",
       "               [0.]],\n",
       "\n",
       "              [[0.],\n",
       "               [0.],\n",
       "               [0.],\n",
       "               ...,\n",
       "               [0.],\n",
       "               [0.],\n",
       "               [0.]]]], dtype=float32)"
      ]
     },
     "execution_count": 5,
     "metadata": {},
     "output_type": "execute_result"
    }
   ],
   "source": [
    "unet_datagen = UnetDataGenerator(imgs_np, masks_np)\n",
    "unet_datagen.get_batch()[\"image\"]"
   ]
  },
  {
   "cell_type": "code",
   "execution_count": 6,
   "metadata": {},
   "outputs": [
    {
     "ename": "ModuleNotFoundError",
     "evalue": "No module named 'keras_unet_utils'",
     "output_type": "error",
     "traceback": [
      "\u001b[0;31m---------------------------------------------------------------------------\u001b[0m",
      "\u001b[0;31mModuleNotFoundError\u001b[0m                       Traceback (most recent call last)",
      "\u001b[1;32m/home/marcosdiaz/Documents/9SEM/TCC/unet_jax/unet_experiments/data_generator.ipynb Cell 6'\u001b[0m in \u001b[0;36m<cell line: 1>\u001b[0;34m()\u001b[0m\n\u001b[0;32m----> <a href='vscode-notebook-cell:/home/marcosdiaz/Documents/9SEM/TCC/unet_jax/unet_experiments/data_generator.ipynb#ch0000005?line=0'>1</a>\u001b[0m \u001b[39mimport\u001b[39;00m \u001b[39mkeras_unet_utils\u001b[39;00m\n\u001b[1;32m      <a href='vscode-notebook-cell:/home/marcosdiaz/Documents/9SEM/TCC/unet_jax/unet_experiments/data_generator.ipynb#ch0000005?line=2'>3</a>\u001b[0m img, mask \u001b[39m=\u001b[39m unet_datagen\u001b[39m.\u001b[39mget_batch_numpy()\n\u001b[1;32m      <a href='vscode-notebook-cell:/home/marcosdiaz/Documents/9SEM/TCC/unet_jax/unet_experiments/data_generator.ipynb#ch0000005?line=3'>4</a>\u001b[0m keras_unet_utils\u001b[39m.\u001b[39mplot_imgs(img, mask, nm_img_to_plot\u001b[39m=\u001b[39m\u001b[39m2\u001b[39m, figsize\u001b[39m=\u001b[39m\u001b[39m6\u001b[39m)\n",
      "\u001b[0;31mModuleNotFoundError\u001b[0m: No module named 'keras_unet_utils'"
     ]
    }
   ],
   "source": [
    "import keras_unet_utils\n",
    "\n",
    "img, mask = unet_datagen.get_batch_numpy()\n",
    "keras_unet_utils.plot_imgs(img, mask, nm_img_to_plot=2, figsize=6)"
   ]
  }
 ],
 "metadata": {
  "interpreter": {
   "hash": "1949ca9275fbfc4d6c1c85d140cf86b0472284733ff4a69b4d83fbdd8400b22a"
  },
  "kernelspec": {
   "display_name": "Python 3.10.4 ('jax_env')",
   "language": "python",
   "name": "python3"
  },
  "language_info": {
   "codemirror_mode": {
    "name": "ipython",
    "version": 3
   },
   "file_extension": ".py",
   "mimetype": "text/x-python",
   "name": "python",
   "nbconvert_exporter": "python",
   "pygments_lexer": "ipython3",
   "version": "3.10.4"
  },
  "orig_nbformat": 4
 },
 "nbformat": 4,
 "nbformat_minor": 2
}

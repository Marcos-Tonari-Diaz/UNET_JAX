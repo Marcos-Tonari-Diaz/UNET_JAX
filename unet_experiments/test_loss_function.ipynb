{
 "cells": [
  {
   "cell_type": "code",
   "execution_count": 32,
   "metadata": {},
   "outputs": [],
   "source": [
    "import optax\n",
    "def compute_loss_function(logits, labels):\n",
    "    return optax.sigmoid_binary_cross_entropy(logits= logits, labels=labels).mean()\n",
    "    # return optax.softmax_cross_entropy(logits=logits, labels=labels).mean()"
   ]
  },
  {
   "cell_type": "code",
   "execution_count": 33,
   "metadata": {},
   "outputs": [],
   "source": [
    "from flax.linen import sigmoid\n",
    "def logits_to_binary(logits):\n",
    "    logits = sigmoid(logits)\n",
    "    logits = logits.round()\n",
    "    return logits"
   ]
  },
  {
   "cell_type": "code",
   "execution_count": 34,
   "metadata": {},
   "outputs": [],
   "source": [
    "from jax import random\n",
    "import jax.numpy as jnp\n",
    "x_key = random.PRNGKey(0)\n",
    "y_key = random.PRNGKey(1)\n",
    "logits = random.normal(x_key, (1,512,512,1))\n",
    "labels = random.randint(x_key, (1,512,512,1), 0, 2)\n",
    "# logits = random.randint(y_key, (1,512,512,1), 0, 2)\n",
    "# labels = jnp.ones((1,512,512,1))\n",
    "# labels = logits\n",
    "# y = jnp.ones((1,512,512,1))\n",
    "# y = x\n",
    "# y = random.normal(y_key, (1,512,512,1))\n",
    "# y = logits_to_binary(y)"
   ]
  },
  {
   "cell_type": "code",
   "execution_count": 35,
   "metadata": {},
   "outputs": [
    {
     "data": {
      "text/plain": [
       "DeviceArray(0.80443764, dtype=float32)"
      ]
     },
     "execution_count": 35,
     "metadata": {},
     "output_type": "execute_result"
    }
   ],
   "source": [
    "compute_loss_function(logits, labels)"
   ]
  },
  {
   "cell_type": "code",
   "execution_count": 36,
   "metadata": {},
   "outputs": [
    {
     "data": {
      "text/plain": [
       "<tf.Tensor: shape=(), dtype=float32, numpy=0.8044377>"
      ]
     },
     "execution_count": 36,
     "metadata": {},
     "output_type": "execute_result"
    }
   ],
   "source": [
    "import tensorflow as tf\n",
    "out = tf.keras.metrics.binary_crossentropy(labels, logits, from_logits=True)\n",
    "# out = tf.keras.activations.sigmoid(out)\n",
    "tf.reduce_mean(out)"
   ]
  }
 ],
 "metadata": {
  "kernelspec": {
   "display_name": "Python 3.10.4 ('jax_env')",
   "language": "python",
   "name": "python3"
  },
  "language_info": {
   "codemirror_mode": {
    "name": "ipython",
    "version": 3
   },
   "file_extension": ".py",
   "mimetype": "text/x-python",
   "name": "python",
   "nbconvert_exporter": "python",
   "pygments_lexer": "ipython3",
   "version": "3.10.4"
  },
  "orig_nbformat": 4,
  "vscode": {
   "interpreter": {
    "hash": "1949ca9275fbfc4d6c1c85d140cf86b0472284733ff4a69b4d83fbdd8400b22a"
   }
  }
 },
 "nbformat": 4,
 "nbformat_minor": 2
}

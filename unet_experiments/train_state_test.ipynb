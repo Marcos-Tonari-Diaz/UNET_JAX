{
 "cells": [
  {
   "cell_type": "code",
   "execution_count": 1,
   "metadata": {},
   "outputs": [],
   "source": [
    "import jax\n",
    "from flax.training import train_state\n",
    "import flax.linen as nn\n",
    "import optax\n",
    "from jax import random\n",
    "import jax.numpy as jnp"
   ]
  },
  {
   "cell_type": "code",
   "execution_count": 7,
   "metadata": {},
   "outputs": [
    {
     "ename": "AttributeError",
     "evalue": "'TrainState' object has no attribute 'TrainState'",
     "output_type": "error",
     "traceback": [
      "\u001b[0;31m---------------------------------------------------------------------------\u001b[0m",
      "\u001b[0;31mAttributeError\u001b[0m                            Traceback (most recent call last)",
      "\u001b[1;32m/home/marcosdiaz/Documents/9SEM/TCC/unet_jax/unet_experiments/train_state_test.ipynb Cell 2'\u001b[0m in \u001b[0;36m<cell line: 4>\u001b[0;34m()\u001b[0m\n\u001b[1;32m      <a href='vscode-notebook-cell:/home/marcosdiaz/Documents/9SEM/TCC/unet_jax/unet_experiments/train_state_test.ipynb#ch0000001?line=1'>2</a>\u001b[0m dense \u001b[39m=\u001b[39m nn\u001b[39m.\u001b[39mDense(features\u001b[39m=\u001b[39m\u001b[39m10\u001b[39m)\n\u001b[1;32m      <a href='vscode-notebook-cell:/home/marcosdiaz/Documents/9SEM/TCC/unet_jax/unet_experiments/train_state_test.ipynb#ch0000001?line=2'>3</a>\u001b[0m dense_params \u001b[39m=\u001b[39m dense\u001b[39m.\u001b[39minit(random\u001b[39m.\u001b[39mPRNGKey(\u001b[39m0\u001b[39m), jnp\u001b[39m.\u001b[39mones((\u001b[39m5\u001b[39m)))\n\u001b[0;32m----> <a href='vscode-notebook-cell:/home/marcosdiaz/Documents/9SEM/TCC/unet_jax/unet_experiments/train_state_test.ipynb#ch0000001?line=3'>4</a>\u001b[0m train_state \u001b[39m=\u001b[39m train_state\u001b[39m.\u001b[39;49mTrainState\u001b[39m.\u001b[39mcreate(apply_fn\u001b[39m=\u001b[39mdense\u001b[39m.\u001b[39mapply, params\u001b[39m=\u001b[39mdense_params, tx\u001b[39m=\u001b[39moptimizer)\n",
      "\u001b[0;31mAttributeError\u001b[0m: 'TrainState' object has no attribute 'TrainState'"
     ]
    }
   ],
   "source": [
    "optimizer = optax.sgd(learning_rate=0.1, momentum=0.99)\n",
    "dense = nn.Dense(features=10)\n",
    "dense_params = dense.init(random.PRNGKey(0), jnp.ones((5)))\n",
    "train_state = train_state.TrainState.create(apply_fn=dense.apply, params=dense_params, tx=optimizer)"
   ]
  },
  {
   "cell_type": "code",
   "execution_count": null,
   "metadata": {},
   "outputs": [
    {
     "ename": "TypeError",
     "evalue": "apply_gradients() takes 1 positional argument but 2 were given",
     "output_type": "error",
     "traceback": [
      "\u001b[0;31m---------------------------------------------------------------------------\u001b[0m",
      "\u001b[0;31mTypeError\u001b[0m                                 Traceback (most recent call last)",
      "\u001b[0;32m<ipython-input-6-4f02f81f4561>\u001b[0m in \u001b[0;36m<module>\u001b[0;34m\u001b[0m\n\u001b[0;32m----> 1\u001b[0;31m \u001b[0mtrain_state\u001b[0m \u001b[0;34m=\u001b[0m \u001b[0mtrain_state\u001b[0m\u001b[0;34m.\u001b[0m\u001b[0mapply_gradients\u001b[0m\u001b[0;34m(\u001b[0m\u001b[0mjnp\u001b[0m\u001b[0;34m.\u001b[0m\u001b[0mones\u001b[0m\u001b[0;34m(\u001b[0m\u001b[0;34m(\u001b[0m\u001b[0;36m5\u001b[0m\u001b[0;34m)\u001b[0m\u001b[0;34m)\u001b[0m\u001b[0;34m)\u001b[0m\u001b[0;34m\u001b[0m\u001b[0;34m\u001b[0m\u001b[0m\n\u001b[0m",
      "\u001b[0;31mTypeError\u001b[0m: apply_gradients() takes 1 positional argument but 2 were given"
     ]
    }
   ],
   "source": [
    "train_state = train_state.apply_gradients(jnp.ones((5)))"
   ]
  }
 ],
 "metadata": {
  "kernelspec": {
   "display_name": "Python 3.10.4 ('jax_env')",
   "language": "python",
   "name": "python3"
  },
  "language_info": {
   "codemirror_mode": {
    "name": "ipython",
    "version": 3
   },
   "file_extension": ".py",
   "mimetype": "text/x-python",
   "name": "python",
   "nbconvert_exporter": "python",
   "pygments_lexer": "ipython3",
   "version": "3.10.4"
  },
  "orig_nbformat": 4,
  "vscode": {
   "interpreter": {
    "hash": "1949ca9275fbfc4d6c1c85d140cf86b0472284733ff4a69b4d83fbdd8400b22a"
   }
  }
 },
 "nbformat": 4,
 "nbformat_minor": 2
}

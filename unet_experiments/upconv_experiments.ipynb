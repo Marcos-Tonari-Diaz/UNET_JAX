{
 "cells": [
  {
   "cell_type": "code",
   "execution_count": 25,
   "metadata": {},
   "outputs": [
    {
     "data": {
      "text/plain": [
       "TensorShape([1, 1024, 56, 56])"
      ]
     },
     "execution_count": 25,
     "metadata": {},
     "output_type": "execute_result"
    }
   ],
   "source": [
    "#test\n",
    "import numpy as np\n",
    "import tensorflow.keras as keras\n",
    "x = np.ones((1, 1024, 28, 28))\n",
    "x_upsampled = keras.layers.UpSampling2D(size=(2,2), data_format=\"channels_first\")(x)\n",
    "x_upsampled.shape"
   ]
  },
  {
   "cell_type": "code",
   "execution_count": 29,
   "metadata": {},
   "outputs": [
    {
     "data": {
      "text/plain": [
       "TensorShape([1, 512, 56, 56])"
      ]
     },
     "execution_count": 29,
     "metadata": {},
     "output_type": "execute_result"
    }
   ],
   "source": [
    "x_upsampled_conv = keras.layers.Conv2DTranspose(filters=512, kernel_size=(2,2), strides=2, data_format=\"channels_first\") (x)\n",
    "x_upsampled_conv.shape"
   ]
  },
  {
   "cell_type": "code",
   "execution_count": 33,
   "metadata": {},
   "outputs": [
    {
     "data": {
      "text/plain": [
       "(1, 1024, 56, 56)"
      ]
     },
     "execution_count": 33,
     "metadata": {},
     "output_type": "execute_result"
    }
   ],
   "source": [
    "import jax\n",
    "import jax.numpy as jnp\n",
    "x = jnp.ones((1, 28, 28, 1024))\n",
    "jax_upscaled_x = jax.image.resize(x, shape=(1, 1024, 56, 56), method='bilinear')\n",
    "jax_upscaled_x.shape"
   ]
  },
  {
   "cell_type": "code",
   "execution_count": 35,
   "metadata": {},
   "outputs": [
    {
     "data": {
      "text/plain": [
       "(1, 56, 56, 512)"
      ]
     },
     "execution_count": 35,
     "metadata": {},
     "output_type": "execute_result"
    }
   ],
   "source": [
    "import flax.linen as nn\n",
    "from jax import random\n",
    "jax_transposed_convolution = nn.ConvTranspose(features=512, kernel_size=(2,2), strides=(2,2))\n",
    "jax_transposed_convolution_init_variables = jax_transposed_convolution.init(random.PRNGKey(0), jnp.ones((1, 28, 28, 1024)))\n",
    "jax_tranpose_convolved_x = jax_transposed_convolution.apply(jax_transposed_convolution_init_variables, x)\n",
    "jax_tranpose_convolved_x.shape"
   ]
  },
  {
   "cell_type": "code",
   "execution_count": 8,
   "metadata": {},
   "outputs": [
    {
     "data": {
      "text/plain": [
       "(2, 1, 1, 5)"
      ]
     },
     "execution_count": 8,
     "metadata": {},
     "output_type": "execute_result"
    }
   ],
   "source": [
    "import jax.numpy as jnp\n",
    "result = jnp.stack((jnp.zeros((1,1,5)), jnp.ones((1,1,5))), 0)\n",
    "result.shape"
   ]
  },
  {
   "cell_type": "code",
   "execution_count": 12,
   "metadata": {},
   "outputs": [
    {
     "data": {
      "text/plain": [
       "(1, 10)"
      ]
     },
     "execution_count": 12,
     "metadata": {},
     "output_type": "execute_result"
    }
   ],
   "source": [
    "result = jnp.hstack((jnp.zeros((1,5)), jnp.ones((1,5))))\n",
    "result.shape"
   ]
  }
 ],
 "metadata": {
  "interpreter": {
   "hash": "6492e545f0af335fe28b1dcaae8a2553f2b3b5844f2707f3bf67d1d5651f0cb9"
  },
  "kernelspec": {
   "display_name": "Python 3.6.9 ('jax': venv)",
   "language": "python",
   "name": "python3"
  },
  "language_info": {
   "codemirror_mode": {
    "name": "ipython",
    "version": 3
   },
   "file_extension": ".py",
   "mimetype": "text/x-python",
   "name": "python",
   "nbconvert_exporter": "python",
   "pygments_lexer": "ipython3",
   "version": "3.6.9"
  },
  "orig_nbformat": 4
 },
 "nbformat": 4,
 "nbformat_minor": 2
}
